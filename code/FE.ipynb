{
 "cells": [
  {
   "cell_type": "code",
   "execution_count": 1,
   "id": "33ba7de9",
   "metadata": {},
   "outputs": [],
   "source": [
    "import pandas as pd\n",
    "import matplotlib.pyplot as plt\n",
    "import numpy as np\n",
    "from tools import *\n",
    "import seaborn as sns\n",
    "%load_ext autoreload\n",
    "%autoreload 2"
   ]
  },
  {
   "cell_type": "code",
   "execution_count": 52,
   "id": "8d68e362",
   "metadata": {},
   "outputs": [],
   "source": [
    "# --- Load SDG Index data ---\n",
    "data_path = r\"../data/full_data_set.xlsx\"\n",
    "df = pd.read_excel(data_path, sheet_name=\"Backdated SDG Index\")\n",
    "\n",
    "# Remove aggregates (ids starting with \"_\")\n",
    "df = df[~df[\"id\"].astype(str).str.startswith(\"_\")].copy()\n",
    "\n",
    "# --- Clean numeric columns (sdgi_s + goals) ---\n",
    "goal_cols = [c for c in df.columns if c.startswith(\"goal\")]\n",
    "all_cols = [\"sdgi_s\"] + goal_cols\n",
    "for col in all_cols:\n",
    "    df[col] = df[col].astype(str).str.replace(\",\", \".\").astype(float)\n",
    "\n",
    "# --- Load population data ---\n",
    "population_path = r\"../data/population_data.xlsx\"\n",
    "df_pop = pd.read_excel(population_path, sheet_name=\"DATA\")\n",
    "\n",
    "# Reshape into long format\n",
    "df_pop_long = df_pop.melt(\n",
    "    id_vars=[\"Country Name\", \"Country Code\"],\n",
    "    var_name=\"year\",\n",
    "    value_name=\"population\"\n",
    ")\n",
    "df_pop_long[\"year\"] = pd.to_numeric(df_pop_long[\"year\"], errors=\"coerce\")\n",
    "\n",
    "start_year, end_year = 2000, 2024\n",
    "\n",
    "# Extract 2024 only\n",
    "pop_2024 = df_pop_long[df_pop_long[\"year\"] == end_year][[\"Country Code\", \"population\"]]\n",
    "\n",
    "# Split into start and end year\n",
    "df_start = df[df[\"year\"] == start_year].set_index(\"id\")[all_cols+ [\"indexreg_\"]]\n",
    "df_end   = df[df[\"year\"] == end_year].set_index(\"id\")[all_cols]\n",
    "\n",
    "# --- Build structured DataFrame ---\n",
    "summary = pd.DataFrame(index=df_start.index)\n",
    "\n",
    "for col in all_cols:\n",
    "    summary[f\"{col}_start\"] = df_start[col]\n",
    "    summary[f\"{col}_rel_change\"] = (\n",
    "        (df_end[col] - df_start[col])\n",
    "    )\n",
    "    \n",
    "summary[\"region\"] = df_start[\"indexreg_\"]\n",
    "\n",
    "# Add population\n",
    "summary = summary.reset_index().merge(\n",
    "    pop_2024, left_on=\"id\", right_on=\"Country Code\", how=\"left\"\n",
    ").drop(columns=[\"Country Code\"])\n",
    "\n",
    "# Force population to float immediately\n",
    "summary[\"population\"] = pd.to_numeric(summary[\"population\"], errors=\"coerce\").astype(float)\n",
    "\n",
    "summary = summary.set_index(\"id\")\n",
    "\n",
    "# Build stable region → code mapping from the full dataset\n",
    "region_categories = pd.Categorical(summary[\"region\"].dropna()).categories\n",
    "region_to_code = {region: i for i, region in enumerate(region_categories)}"
   ]
  },
  {
   "cell_type": "code",
   "execution_count": 53,
   "id": "b098b1a1",
   "metadata": {},
   "outputs": [
    {
     "data": {
      "text/plain": [
       "region\n",
       "Africa         49\n",
       "OECD           38\n",
       "LAC            29\n",
       "E_Euro_Asia    23\n",
       "E_S_Asia       21\n",
       "MENA           17\n",
       "Oceania        12\n",
       "W_Europe        4\n",
       "Name: count, dtype: int64"
      ]
     },
     "execution_count": 53,
     "metadata": {},
     "output_type": "execute_result"
    }
   ],
   "source": [
    "summary.region.value_counts()"
   ]
  },
  {
   "cell_type": "code",
   "execution_count": 54,
   "id": "8a24d3a0",
   "metadata": {},
   "outputs": [
    {
     "data": {
      "text/html": [
       "<div>\n",
       "<style scoped>\n",
       "    .dataframe tbody tr th:only-of-type {\n",
       "        vertical-align: middle;\n",
       "    }\n",
       "\n",
       "    .dataframe tbody tr th {\n",
       "        vertical-align: top;\n",
       "    }\n",
       "\n",
       "    .dataframe thead th {\n",
       "        text-align: right;\n",
       "    }\n",
       "</style>\n",
       "<table border=\"1\" class=\"dataframe\">\n",
       "  <thead>\n",
       "    <tr style=\"text-align: right;\">\n",
       "      <th></th>\n",
       "      <th>sdgi_s_start</th>\n",
       "      <th>sdgi_s_rel_change</th>\n",
       "      <th>goal1_start</th>\n",
       "      <th>goal1_rel_change</th>\n",
       "      <th>goal2_start</th>\n",
       "      <th>goal2_rel_change</th>\n",
       "      <th>goal3_start</th>\n",
       "      <th>goal3_rel_change</th>\n",
       "      <th>goal4_start</th>\n",
       "      <th>goal4_rel_change</th>\n",
       "      <th>...</th>\n",
       "      <th>goal14_start</th>\n",
       "      <th>goal14_rel_change</th>\n",
       "      <th>goal15_start</th>\n",
       "      <th>goal15_rel_change</th>\n",
       "      <th>goal16_start</th>\n",
       "      <th>goal16_rel_change</th>\n",
       "      <th>goal17_start</th>\n",
       "      <th>goal17_rel_change</th>\n",
       "      <th>region</th>\n",
       "      <th>population</th>\n",
       "    </tr>\n",
       "    <tr>\n",
       "      <th>id</th>\n",
       "      <th></th>\n",
       "      <th></th>\n",
       "      <th></th>\n",
       "      <th></th>\n",
       "      <th></th>\n",
       "      <th></th>\n",
       "      <th></th>\n",
       "      <th></th>\n",
       "      <th></th>\n",
       "      <th></th>\n",
       "      <th></th>\n",
       "      <th></th>\n",
       "      <th></th>\n",
       "      <th></th>\n",
       "      <th></th>\n",
       "      <th></th>\n",
       "      <th></th>\n",
       "      <th></th>\n",
       "      <th></th>\n",
       "      <th></th>\n",
       "      <th></th>\n",
       "    </tr>\n",
       "  </thead>\n",
       "  <tbody>\n",
       "    <tr>\n",
       "      <th>AND</th>\n",
       "      <td>69.534100</td>\n",
       "      <td>10.365754</td>\n",
       "      <td>NaN</td>\n",
       "      <td>NaN</td>\n",
       "      <td>91.095800</td>\n",
       "      <td>-2.7182</td>\n",
       "      <td>91.811600</td>\n",
       "      <td>4.185800</td>\n",
       "      <td>52.375667</td>\n",
       "      <td>44.117667</td>\n",
       "      <td>...</td>\n",
       "      <td>NaN</td>\n",
       "      <td>NaN</td>\n",
       "      <td>64.416</td>\n",
       "      <td>7.233667</td>\n",
       "      <td>87.77880</td>\n",
       "      <td>-12.56900</td>\n",
       "      <td>54.79160</td>\n",
       "      <td>3.03920</td>\n",
       "      <td>W_Europe</td>\n",
       "      <td>81938.0</td>\n",
       "    </tr>\n",
       "    <tr>\n",
       "      <th>LIE</th>\n",
       "      <td>81.774128</td>\n",
       "      <td>5.076655</td>\n",
       "      <td>NaN</td>\n",
       "      <td>NaN</td>\n",
       "      <td>96.418667</td>\n",
       "      <td>0.0000</td>\n",
       "      <td>NaN</td>\n",
       "      <td>NaN</td>\n",
       "      <td>87.879667</td>\n",
       "      <td>8.407000</td>\n",
       "      <td>...</td>\n",
       "      <td>NaN</td>\n",
       "      <td>NaN</td>\n",
       "      <td>92.267</td>\n",
       "      <td>-0.250000</td>\n",
       "      <td>97.08140</td>\n",
       "      <td>-6.58840</td>\n",
       "      <td>60.14525</td>\n",
       "      <td>2.77775</td>\n",
       "      <td>W_Europe</td>\n",
       "      <td>40197.0</td>\n",
       "    </tr>\n",
       "    <tr>\n",
       "      <th>MCO</th>\n",
       "      <td>80.209461</td>\n",
       "      <td>7.820776</td>\n",
       "      <td>NaN</td>\n",
       "      <td>NaN</td>\n",
       "      <td>96.418667</td>\n",
       "      <td>0.0000</td>\n",
       "      <td>92.872500</td>\n",
       "      <td>1.554875</td>\n",
       "      <td>94.631000</td>\n",
       "      <td>0.255333</td>\n",
       "      <td>...</td>\n",
       "      <td>NaN</td>\n",
       "      <td>NaN</td>\n",
       "      <td>NaN</td>\n",
       "      <td>NaN</td>\n",
       "      <td>83.65925</td>\n",
       "      <td>5.86875</td>\n",
       "      <td>50.41180</td>\n",
       "      <td>0.35380</td>\n",
       "      <td>W_Europe</td>\n",
       "      <td>38631.0</td>\n",
       "    </tr>\n",
       "    <tr>\n",
       "      <th>SMR</th>\n",
       "      <td>79.128778</td>\n",
       "      <td>6.758495</td>\n",
       "      <td>NaN</td>\n",
       "      <td>NaN</td>\n",
       "      <td>97.314000</td>\n",
       "      <td>0.0000</td>\n",
       "      <td>90.888222</td>\n",
       "      <td>1.882778</td>\n",
       "      <td>93.351000</td>\n",
       "      <td>0.101250</td>\n",
       "      <td>...</td>\n",
       "      <td>NaN</td>\n",
       "      <td>NaN</td>\n",
       "      <td>NaN</td>\n",
       "      <td>NaN</td>\n",
       "      <td>100.00000</td>\n",
       "      <td>0.00000</td>\n",
       "      <td>68.46300</td>\n",
       "      <td>4.42825</td>\n",
       "      <td>W_Europe</td>\n",
       "      <td>33977.0</td>\n",
       "    </tr>\n",
       "  </tbody>\n",
       "</table>\n",
       "<p>4 rows × 38 columns</p>\n",
       "</div>"
      ],
      "text/plain": [
       "     sdgi_s_start  sdgi_s_rel_change  goal1_start  goal1_rel_change  \\\n",
       "id                                                                    \n",
       "AND     69.534100          10.365754          NaN               NaN   \n",
       "LIE     81.774128           5.076655          NaN               NaN   \n",
       "MCO     80.209461           7.820776          NaN               NaN   \n",
       "SMR     79.128778           6.758495          NaN               NaN   \n",
       "\n",
       "     goal2_start  goal2_rel_change  goal3_start  goal3_rel_change  \\\n",
       "id                                                                  \n",
       "AND    91.095800           -2.7182    91.811600          4.185800   \n",
       "LIE    96.418667            0.0000          NaN               NaN   \n",
       "MCO    96.418667            0.0000    92.872500          1.554875   \n",
       "SMR    97.314000            0.0000    90.888222          1.882778   \n",
       "\n",
       "     goal4_start  goal4_rel_change  ...  goal14_start  goal14_rel_change  \\\n",
       "id                                  ...                                    \n",
       "AND    52.375667         44.117667  ...           NaN                NaN   \n",
       "LIE    87.879667          8.407000  ...           NaN                NaN   \n",
       "MCO    94.631000          0.255333  ...           NaN                NaN   \n",
       "SMR    93.351000          0.101250  ...           NaN                NaN   \n",
       "\n",
       "     goal15_start  goal15_rel_change  goal16_start  goal16_rel_change  \\\n",
       "id                                                                      \n",
       "AND        64.416           7.233667      87.77880          -12.56900   \n",
       "LIE        92.267          -0.250000      97.08140           -6.58840   \n",
       "MCO           NaN                NaN      83.65925            5.86875   \n",
       "SMR           NaN                NaN     100.00000            0.00000   \n",
       "\n",
       "     goal17_start  goal17_rel_change    region  population  \n",
       "id                                                          \n",
       "AND      54.79160            3.03920  W_Europe     81938.0  \n",
       "LIE      60.14525            2.77775  W_Europe     40197.0  \n",
       "MCO      50.41180            0.35380  W_Europe     38631.0  \n",
       "SMR      68.46300            4.42825  W_Europe     33977.0  \n",
       "\n",
       "[4 rows x 38 columns]"
      ]
     },
     "execution_count": 54,
     "metadata": {},
     "output_type": "execute_result"
    }
   ],
   "source": [
    "# which countries are W_Europe\n",
    "summary[summary.region == \"W_Europe\"]"
   ]
  },
  {
   "cell_type": "code",
   "execution_count": 55,
   "id": "6ac6efa9",
   "metadata": {},
   "outputs": [
    {
     "data": {
      "application/vnd.plotly.v1+json": {
       "config": {
        "plotlyServerURL": "https://plot.ly"
       },
       "data": [
        {
         "colorscale": [
          [
           0,
           "rgb(141,211,199)"
          ],
          [
           1,
           "rgb(141,211,199)"
          ]
         ],
         "geo": "geo",
         "hovertemplate": "<b>%{hovertext}</b><br><br>region=E_Euro_Asia<br>country_code=%{location}<extra></extra>",
         "hovertext": [
          "AFG",
          "ALB",
          "ARM",
          "AZE",
          "BGR",
          "BIH",
          "BLR",
          "CYP",
          "GEO",
          "HRV",
          "KAZ",
          "KGZ",
          "MDA",
          "MKD",
          "MLT",
          "MNE",
          "ROU",
          "RUS",
          "SRB",
          "TJK",
          "TKM",
          "UKR",
          "UZB"
         ],
         "locations": [
          "AFG",
          "ALB",
          "ARM",
          "AZE",
          "BGR",
          "BIH",
          "BLR",
          "CYP",
          "GEO",
          "HRV",
          "KAZ",
          "KGZ",
          "MDA",
          "MKD",
          "MLT",
          "MNE",
          "ROU",
          "RUS",
          "SRB",
          "TJK",
          "TKM",
          "UKR",
          "UZB"
         ],
         "name": "E_Euro_Asia",
         "showlegend": true,
         "showscale": false,
         "type": "choropleth",
         "z": [
          1,
          1,
          1,
          1,
          1,
          1,
          1,
          1,
          1,
          1,
          1,
          1,
          1,
          1,
          1,
          1,
          1,
          1,
          1,
          1,
          1,
          1,
          1
         ]
        },
        {
         "colorscale": [
          [
           0,
           "rgb(255,255,179)"
          ],
          [
           1,
           "rgb(255,255,179)"
          ]
         ],
         "geo": "geo",
         "hovertemplate": "<b>%{hovertext}</b><br><br>region=Africa<br>country_code=%{location}<extra></extra>",
         "hovertext": [
          "AGO",
          "BDI",
          "BEN",
          "BFA",
          "BWA",
          "CAF",
          "CIV",
          "CMR",
          "COD",
          "COG",
          "COM",
          "CPV",
          "DJI",
          "ERI",
          "ETH",
          "GAB",
          "GHA",
          "GIN",
          "GMB",
          "GNB",
          "GNQ",
          "KEN",
          "LBR",
          "LSO",
          "MDG",
          "MLI",
          "MOZ",
          "MRT",
          "MUS",
          "MWI",
          "NAM",
          "NER",
          "NGA",
          "RWA",
          "SDN",
          "SEN",
          "SLE",
          "SOM",
          "SSD",
          "STP",
          "SWZ",
          "SYC",
          "TCD",
          "TGO",
          "TZA",
          "UGA",
          "ZAF",
          "ZMB",
          "ZWE"
         ],
         "locations": [
          "AGO",
          "BDI",
          "BEN",
          "BFA",
          "BWA",
          "CAF",
          "CIV",
          "CMR",
          "COD",
          "COG",
          "COM",
          "CPV",
          "DJI",
          "ERI",
          "ETH",
          "GAB",
          "GHA",
          "GIN",
          "GMB",
          "GNB",
          "GNQ",
          "KEN",
          "LBR",
          "LSO",
          "MDG",
          "MLI",
          "MOZ",
          "MRT",
          "MUS",
          "MWI",
          "NAM",
          "NER",
          "NGA",
          "RWA",
          "SDN",
          "SEN",
          "SLE",
          "SOM",
          "SSD",
          "STP",
          "SWZ",
          "SYC",
          "TCD",
          "TGO",
          "TZA",
          "UGA",
          "ZAF",
          "ZMB",
          "ZWE"
         ],
         "name": "Africa",
         "showlegend": true,
         "showscale": false,
         "type": "choropleth",
         "z": [
          1,
          1,
          1,
          1,
          1,
          1,
          1,
          1,
          1,
          1,
          1,
          1,
          1,
          1,
          1,
          1,
          1,
          1,
          1,
          1,
          1,
          1,
          1,
          1,
          1,
          1,
          1,
          1,
          1,
          1,
          1,
          1,
          1,
          1,
          1,
          1,
          1,
          1,
          1,
          1,
          1,
          1,
          1,
          1,
          1,
          1,
          1,
          1,
          1
         ]
        },
        {
         "colorscale": [
          [
           0,
           "rgb(190,186,218)"
          ],
          [
           1,
           "rgb(190,186,218)"
          ]
         ],
         "geo": "geo",
         "hovertemplate": "<b>%{hovertext}</b><br><br>region=W_Europe<br>country_code=%{location}<extra></extra>",
         "hovertext": [
          "AND",
          "LIE",
          "MCO",
          "SMR"
         ],
         "locations": [
          "AND",
          "LIE",
          "MCO",
          "SMR"
         ],
         "name": "W_Europe",
         "showlegend": true,
         "showscale": false,
         "type": "choropleth",
         "z": [
          1,
          1,
          1,
          1
         ]
        },
        {
         "colorscale": [
          [
           0,
           "rgb(251,128,114)"
          ],
          [
           1,
           "rgb(251,128,114)"
          ]
         ],
         "geo": "geo",
         "hovertemplate": "<b>%{hovertext}</b><br><br>region=MENA<br>country_code=%{location}<extra></extra>",
         "hovertext": [
          "ARE",
          "BHR",
          "DZA",
          "EGY",
          "IRN",
          "IRQ",
          "JOR",
          "KWT",
          "LBN",
          "LBY",
          "MAR",
          "OMN",
          "QAT",
          "SAU",
          "SYR",
          "TUN",
          "YEM"
         ],
         "locations": [
          "ARE",
          "BHR",
          "DZA",
          "EGY",
          "IRN",
          "IRQ",
          "JOR",
          "KWT",
          "LBN",
          "LBY",
          "MAR",
          "OMN",
          "QAT",
          "SAU",
          "SYR",
          "TUN",
          "YEM"
         ],
         "name": "MENA",
         "showlegend": true,
         "showscale": false,
         "type": "choropleth",
         "z": [
          1,
          1,
          1,
          1,
          1,
          1,
          1,
          1,
          1,
          1,
          1,
          1,
          1,
          1,
          1,
          1,
          1
         ]
        },
        {
         "colorscale": [
          [
           0,
           "rgb(128,177,211)"
          ],
          [
           1,
           "rgb(128,177,211)"
          ]
         ],
         "geo": "geo",
         "hovertemplate": "<b>%{hovertext}</b><br><br>region=LAC<br>country_code=%{location}<extra></extra>",
         "hovertext": [
          "ARG",
          "ATG",
          "BHS",
          "BLZ",
          "BOL",
          "BRA",
          "BRB",
          "CUB",
          "DMA",
          "DOM",
          "ECU",
          "GRD",
          "GTM",
          "GUY",
          "HND",
          "HTI",
          "JAM",
          "KNA",
          "LCA",
          "NIC",
          "PAN",
          "PER",
          "PRY",
          "SLV",
          "SUR",
          "TTO",
          "URY",
          "VCT",
          "VEN"
         ],
         "locations": [
          "ARG",
          "ATG",
          "BHS",
          "BLZ",
          "BOL",
          "BRA",
          "BRB",
          "CUB",
          "DMA",
          "DOM",
          "ECU",
          "GRD",
          "GTM",
          "GUY",
          "HND",
          "HTI",
          "JAM",
          "KNA",
          "LCA",
          "NIC",
          "PAN",
          "PER",
          "PRY",
          "SLV",
          "SUR",
          "TTO",
          "URY",
          "VCT",
          "VEN"
         ],
         "name": "LAC",
         "showlegend": true,
         "showscale": false,
         "type": "choropleth",
         "z": [
          1,
          1,
          1,
          1,
          1,
          1,
          1,
          1,
          1,
          1,
          1,
          1,
          1,
          1,
          1,
          1,
          1,
          1,
          1,
          1,
          1,
          1,
          1,
          1,
          1,
          1,
          1,
          1,
          1
         ]
        },
        {
         "colorscale": [
          [
           0,
           "rgb(253,180,98)"
          ],
          [
           1,
           "rgb(253,180,98)"
          ]
         ],
         "geo": "geo",
         "hovertemplate": "<b>%{hovertext}</b><br><br>region=OECD<br>country_code=%{location}<extra></extra>",
         "hovertext": [
          "AUS",
          "AUT",
          "BEL",
          "CAN",
          "CHE",
          "CHL",
          "COL",
          "CRI",
          "CZE",
          "DEU",
          "DNK",
          "ESP",
          "EST",
          "FIN",
          "FRA",
          "GBR",
          "GRC",
          "HUN",
          "IRL",
          "ISL",
          "ISR",
          "ITA",
          "JPN",
          "KOR",
          "LTU",
          "LUX",
          "LVA",
          "MEX",
          "NLD",
          "NOR",
          "NZL",
          "POL",
          "PRT",
          "SVK",
          "SVN",
          "SWE",
          "TUR",
          "USA"
         ],
         "locations": [
          "AUS",
          "AUT",
          "BEL",
          "CAN",
          "CHE",
          "CHL",
          "COL",
          "CRI",
          "CZE",
          "DEU",
          "DNK",
          "ESP",
          "EST",
          "FIN",
          "FRA",
          "GBR",
          "GRC",
          "HUN",
          "IRL",
          "ISL",
          "ISR",
          "ITA",
          "JPN",
          "KOR",
          "LTU",
          "LUX",
          "LVA",
          "MEX",
          "NLD",
          "NOR",
          "NZL",
          "POL",
          "PRT",
          "SVK",
          "SVN",
          "SWE",
          "TUR",
          "USA"
         ],
         "name": "OECD",
         "showlegend": true,
         "showscale": false,
         "type": "choropleth",
         "z": [
          1,
          1,
          1,
          1,
          1,
          1,
          1,
          1,
          1,
          1,
          1,
          1,
          1,
          1,
          1,
          1,
          1,
          1,
          1,
          1,
          1,
          1,
          1,
          1,
          1,
          1,
          1,
          1,
          1,
          1,
          1,
          1,
          1,
          1,
          1,
          1,
          1,
          1
         ]
        },
        {
         "colorscale": [
          [
           0,
           "rgb(179,222,105)"
          ],
          [
           1,
           "rgb(179,222,105)"
          ]
         ],
         "geo": "geo",
         "hovertemplate": "<b>%{hovertext}</b><br><br>region=E_S_Asia<br>country_code=%{location}<extra></extra>",
         "hovertext": [
          "BGD",
          "BRN",
          "BTN",
          "CHN",
          "IDN",
          "IND",
          "KHM",
          "LAO",
          "LKA",
          "MDV",
          "MMR",
          "MNG",
          "MYS",
          "NPL",
          "PAK",
          "PHL",
          "PRK",
          "SGP",
          "THA",
          "TLS",
          "VNM"
         ],
         "locations": [
          "BGD",
          "BRN",
          "BTN",
          "CHN",
          "IDN",
          "IND",
          "KHM",
          "LAO",
          "LKA",
          "MDV",
          "MMR",
          "MNG",
          "MYS",
          "NPL",
          "PAK",
          "PHL",
          "PRK",
          "SGP",
          "THA",
          "TLS",
          "VNM"
         ],
         "name": "E_S_Asia",
         "showlegend": true,
         "showscale": false,
         "type": "choropleth",
         "z": [
          1,
          1,
          1,
          1,
          1,
          1,
          1,
          1,
          1,
          1,
          1,
          1,
          1,
          1,
          1,
          1,
          1,
          1,
          1,
          1,
          1
         ]
        },
        {
         "colorscale": [
          [
           0,
           "rgb(252,205,229)"
          ],
          [
           1,
           "rgb(252,205,229)"
          ]
         ],
         "geo": "geo",
         "hovertemplate": "<b>%{hovertext}</b><br><br>region=Oceania<br>country_code=%{location}<extra></extra>",
         "hovertext": [
          "FJI",
          "FSM",
          "KIR",
          "MHL",
          "NRU",
          "PLW",
          "PNG",
          "SLB",
          "TON",
          "TUV",
          "VUT",
          "WSM"
         ],
         "locations": [
          "FJI",
          "FSM",
          "KIR",
          "MHL",
          "NRU",
          "PLW",
          "PNG",
          "SLB",
          "TON",
          "TUV",
          "VUT",
          "WSM"
         ],
         "name": "Oceania",
         "showlegend": true,
         "showscale": false,
         "type": "choropleth",
         "z": [
          1,
          1,
          1,
          1,
          1,
          1,
          1,
          1,
          1,
          1,
          1,
          1
         ]
        }
       ],
       "layout": {
        "geo": {
         "center": {},
         "domain": {
          "x": [
           0,
           1
          ],
          "y": [
           0,
           1
          ]
         },
         "showcoastlines": true,
         "showframe": false
        },
        "legend": {
         "title": {
          "text": "region"
         },
         "tracegroupgap": 0
        },
        "margin": {
         "t": 60
        },
        "template": {
         "data": {
          "bar": [
           {
            "error_x": {
             "color": "#2a3f5f"
            },
            "error_y": {
             "color": "#2a3f5f"
            },
            "marker": {
             "line": {
              "color": "#E5ECF6",
              "width": 0.5
             },
             "pattern": {
              "fillmode": "overlay",
              "size": 10,
              "solidity": 0.2
             }
            },
            "type": "bar"
           }
          ],
          "barpolar": [
           {
            "marker": {
             "line": {
              "color": "#E5ECF6",
              "width": 0.5
             },
             "pattern": {
              "fillmode": "overlay",
              "size": 10,
              "solidity": 0.2
             }
            },
            "type": "barpolar"
           }
          ],
          "carpet": [
           {
            "aaxis": {
             "endlinecolor": "#2a3f5f",
             "gridcolor": "white",
             "linecolor": "white",
             "minorgridcolor": "white",
             "startlinecolor": "#2a3f5f"
            },
            "baxis": {
             "endlinecolor": "#2a3f5f",
             "gridcolor": "white",
             "linecolor": "white",
             "minorgridcolor": "white",
             "startlinecolor": "#2a3f5f"
            },
            "type": "carpet"
           }
          ],
          "choropleth": [
           {
            "colorbar": {
             "outlinewidth": 0,
             "ticks": ""
            },
            "type": "choropleth"
           }
          ],
          "contour": [
           {
            "colorbar": {
             "outlinewidth": 0,
             "ticks": ""
            },
            "colorscale": [
             [
              0,
              "#0d0887"
             ],
             [
              0.1111111111111111,
              "#46039f"
             ],
             [
              0.2222222222222222,
              "#7201a8"
             ],
             [
              0.3333333333333333,
              "#9c179e"
             ],
             [
              0.4444444444444444,
              "#bd3786"
             ],
             [
              0.5555555555555556,
              "#d8576b"
             ],
             [
              0.6666666666666666,
              "#ed7953"
             ],
             [
              0.7777777777777778,
              "#fb9f3a"
             ],
             [
              0.8888888888888888,
              "#fdca26"
             ],
             [
              1,
              "#f0f921"
             ]
            ],
            "type": "contour"
           }
          ],
          "contourcarpet": [
           {
            "colorbar": {
             "outlinewidth": 0,
             "ticks": ""
            },
            "type": "contourcarpet"
           }
          ],
          "heatmap": [
           {
            "colorbar": {
             "outlinewidth": 0,
             "ticks": ""
            },
            "colorscale": [
             [
              0,
              "#0d0887"
             ],
             [
              0.1111111111111111,
              "#46039f"
             ],
             [
              0.2222222222222222,
              "#7201a8"
             ],
             [
              0.3333333333333333,
              "#9c179e"
             ],
             [
              0.4444444444444444,
              "#bd3786"
             ],
             [
              0.5555555555555556,
              "#d8576b"
             ],
             [
              0.6666666666666666,
              "#ed7953"
             ],
             [
              0.7777777777777778,
              "#fb9f3a"
             ],
             [
              0.8888888888888888,
              "#fdca26"
             ],
             [
              1,
              "#f0f921"
             ]
            ],
            "type": "heatmap"
           }
          ],
          "heatmapgl": [
           {
            "colorbar": {
             "outlinewidth": 0,
             "ticks": ""
            },
            "colorscale": [
             [
              0,
              "#0d0887"
             ],
             [
              0.1111111111111111,
              "#46039f"
             ],
             [
              0.2222222222222222,
              "#7201a8"
             ],
             [
              0.3333333333333333,
              "#9c179e"
             ],
             [
              0.4444444444444444,
              "#bd3786"
             ],
             [
              0.5555555555555556,
              "#d8576b"
             ],
             [
              0.6666666666666666,
              "#ed7953"
             ],
             [
              0.7777777777777778,
              "#fb9f3a"
             ],
             [
              0.8888888888888888,
              "#fdca26"
             ],
             [
              1,
              "#f0f921"
             ]
            ],
            "type": "heatmapgl"
           }
          ],
          "histogram": [
           {
            "marker": {
             "pattern": {
              "fillmode": "overlay",
              "size": 10,
              "solidity": 0.2
             }
            },
            "type": "histogram"
           }
          ],
          "histogram2d": [
           {
            "colorbar": {
             "outlinewidth": 0,
             "ticks": ""
            },
            "colorscale": [
             [
              0,
              "#0d0887"
             ],
             [
              0.1111111111111111,
              "#46039f"
             ],
             [
              0.2222222222222222,
              "#7201a8"
             ],
             [
              0.3333333333333333,
              "#9c179e"
             ],
             [
              0.4444444444444444,
              "#bd3786"
             ],
             [
              0.5555555555555556,
              "#d8576b"
             ],
             [
              0.6666666666666666,
              "#ed7953"
             ],
             [
              0.7777777777777778,
              "#fb9f3a"
             ],
             [
              0.8888888888888888,
              "#fdca26"
             ],
             [
              1,
              "#f0f921"
             ]
            ],
            "type": "histogram2d"
           }
          ],
          "histogram2dcontour": [
           {
            "colorbar": {
             "outlinewidth": 0,
             "ticks": ""
            },
            "colorscale": [
             [
              0,
              "#0d0887"
             ],
             [
              0.1111111111111111,
              "#46039f"
             ],
             [
              0.2222222222222222,
              "#7201a8"
             ],
             [
              0.3333333333333333,
              "#9c179e"
             ],
             [
              0.4444444444444444,
              "#bd3786"
             ],
             [
              0.5555555555555556,
              "#d8576b"
             ],
             [
              0.6666666666666666,
              "#ed7953"
             ],
             [
              0.7777777777777778,
              "#fb9f3a"
             ],
             [
              0.8888888888888888,
              "#fdca26"
             ],
             [
              1,
              "#f0f921"
             ]
            ],
            "type": "histogram2dcontour"
           }
          ],
          "mesh3d": [
           {
            "colorbar": {
             "outlinewidth": 0,
             "ticks": ""
            },
            "type": "mesh3d"
           }
          ],
          "parcoords": [
           {
            "line": {
             "colorbar": {
              "outlinewidth": 0,
              "ticks": ""
             }
            },
            "type": "parcoords"
           }
          ],
          "pie": [
           {
            "automargin": true,
            "type": "pie"
           }
          ],
          "scatter": [
           {
            "fillpattern": {
             "fillmode": "overlay",
             "size": 10,
             "solidity": 0.2
            },
            "type": "scatter"
           }
          ],
          "scatter3d": [
           {
            "line": {
             "colorbar": {
              "outlinewidth": 0,
              "ticks": ""
             }
            },
            "marker": {
             "colorbar": {
              "outlinewidth": 0,
              "ticks": ""
             }
            },
            "type": "scatter3d"
           }
          ],
          "scattercarpet": [
           {
            "marker": {
             "colorbar": {
              "outlinewidth": 0,
              "ticks": ""
             }
            },
            "type": "scattercarpet"
           }
          ],
          "scattergeo": [
           {
            "marker": {
             "colorbar": {
              "outlinewidth": 0,
              "ticks": ""
             }
            },
            "type": "scattergeo"
           }
          ],
          "scattergl": [
           {
            "marker": {
             "colorbar": {
              "outlinewidth": 0,
              "ticks": ""
             }
            },
            "type": "scattergl"
           }
          ],
          "scattermapbox": [
           {
            "marker": {
             "colorbar": {
              "outlinewidth": 0,
              "ticks": ""
             }
            },
            "type": "scattermapbox"
           }
          ],
          "scatterpolar": [
           {
            "marker": {
             "colorbar": {
              "outlinewidth": 0,
              "ticks": ""
             }
            },
            "type": "scatterpolar"
           }
          ],
          "scatterpolargl": [
           {
            "marker": {
             "colorbar": {
              "outlinewidth": 0,
              "ticks": ""
             }
            },
            "type": "scatterpolargl"
           }
          ],
          "scatterternary": [
           {
            "marker": {
             "colorbar": {
              "outlinewidth": 0,
              "ticks": ""
             }
            },
            "type": "scatterternary"
           }
          ],
          "surface": [
           {
            "colorbar": {
             "outlinewidth": 0,
             "ticks": ""
            },
            "colorscale": [
             [
              0,
              "#0d0887"
             ],
             [
              0.1111111111111111,
              "#46039f"
             ],
             [
              0.2222222222222222,
              "#7201a8"
             ],
             [
              0.3333333333333333,
              "#9c179e"
             ],
             [
              0.4444444444444444,
              "#bd3786"
             ],
             [
              0.5555555555555556,
              "#d8576b"
             ],
             [
              0.6666666666666666,
              "#ed7953"
             ],
             [
              0.7777777777777778,
              "#fb9f3a"
             ],
             [
              0.8888888888888888,
              "#fdca26"
             ],
             [
              1,
              "#f0f921"
             ]
            ],
            "type": "surface"
           }
          ],
          "table": [
           {
            "cells": {
             "fill": {
              "color": "#EBF0F8"
             },
             "line": {
              "color": "white"
             }
            },
            "header": {
             "fill": {
              "color": "#C8D4E3"
             },
             "line": {
              "color": "white"
             }
            },
            "type": "table"
           }
          ]
         },
         "layout": {
          "annotationdefaults": {
           "arrowcolor": "#2a3f5f",
           "arrowhead": 0,
           "arrowwidth": 1
          },
          "autotypenumbers": "strict",
          "coloraxis": {
           "colorbar": {
            "outlinewidth": 0,
            "ticks": ""
           }
          },
          "colorscale": {
           "diverging": [
            [
             0,
             "#8e0152"
            ],
            [
             0.1,
             "#c51b7d"
            ],
            [
             0.2,
             "#de77ae"
            ],
            [
             0.3,
             "#f1b6da"
            ],
            [
             0.4,
             "#fde0ef"
            ],
            [
             0.5,
             "#f7f7f7"
            ],
            [
             0.6,
             "#e6f5d0"
            ],
            [
             0.7,
             "#b8e186"
            ],
            [
             0.8,
             "#7fbc41"
            ],
            [
             0.9,
             "#4d9221"
            ],
            [
             1,
             "#276419"
            ]
           ],
           "sequential": [
            [
             0,
             "#0d0887"
            ],
            [
             0.1111111111111111,
             "#46039f"
            ],
            [
             0.2222222222222222,
             "#7201a8"
            ],
            [
             0.3333333333333333,
             "#9c179e"
            ],
            [
             0.4444444444444444,
             "#bd3786"
            ],
            [
             0.5555555555555556,
             "#d8576b"
            ],
            [
             0.6666666666666666,
             "#ed7953"
            ],
            [
             0.7777777777777778,
             "#fb9f3a"
            ],
            [
             0.8888888888888888,
             "#fdca26"
            ],
            [
             1,
             "#f0f921"
            ]
           ],
           "sequentialminus": [
            [
             0,
             "#0d0887"
            ],
            [
             0.1111111111111111,
             "#46039f"
            ],
            [
             0.2222222222222222,
             "#7201a8"
            ],
            [
             0.3333333333333333,
             "#9c179e"
            ],
            [
             0.4444444444444444,
             "#bd3786"
            ],
            [
             0.5555555555555556,
             "#d8576b"
            ],
            [
             0.6666666666666666,
             "#ed7953"
            ],
            [
             0.7777777777777778,
             "#fb9f3a"
            ],
            [
             0.8888888888888888,
             "#fdca26"
            ],
            [
             1,
             "#f0f921"
            ]
           ]
          },
          "colorway": [
           "#636efa",
           "#EF553B",
           "#00cc96",
           "#ab63fa",
           "#FFA15A",
           "#19d3f3",
           "#FF6692",
           "#B6E880",
           "#FF97FF",
           "#FECB52"
          ],
          "font": {
           "color": "#2a3f5f"
          },
          "geo": {
           "bgcolor": "white",
           "lakecolor": "white",
           "landcolor": "#E5ECF6",
           "showlakes": true,
           "showland": true,
           "subunitcolor": "white"
          },
          "hoverlabel": {
           "align": "left"
          },
          "hovermode": "closest",
          "mapbox": {
           "style": "light"
          },
          "paper_bgcolor": "white",
          "plot_bgcolor": "#E5ECF6",
          "polar": {
           "angularaxis": {
            "gridcolor": "white",
            "linecolor": "white",
            "ticks": ""
           },
           "bgcolor": "#E5ECF6",
           "radialaxis": {
            "gridcolor": "white",
            "linecolor": "white",
            "ticks": ""
           }
          },
          "scene": {
           "xaxis": {
            "backgroundcolor": "#E5ECF6",
            "gridcolor": "white",
            "gridwidth": 2,
            "linecolor": "white",
            "showbackground": true,
            "ticks": "",
            "zerolinecolor": "white"
           },
           "yaxis": {
            "backgroundcolor": "#E5ECF6",
            "gridcolor": "white",
            "gridwidth": 2,
            "linecolor": "white",
            "showbackground": true,
            "ticks": "",
            "zerolinecolor": "white"
           },
           "zaxis": {
            "backgroundcolor": "#E5ECF6",
            "gridcolor": "white",
            "gridwidth": 2,
            "linecolor": "white",
            "showbackground": true,
            "ticks": "",
            "zerolinecolor": "white"
           }
          },
          "shapedefaults": {
           "line": {
            "color": "#2a3f5f"
           }
          },
          "ternary": {
           "aaxis": {
            "gridcolor": "white",
            "linecolor": "white",
            "ticks": ""
           },
           "baxis": {
            "gridcolor": "white",
            "linecolor": "white",
            "ticks": ""
           },
           "bgcolor": "#E5ECF6",
           "caxis": {
            "gridcolor": "white",
            "linecolor": "white",
            "ticks": ""
           }
          },
          "title": {
           "x": 0.05
          },
          "xaxis": {
           "automargin": true,
           "gridcolor": "white",
           "linecolor": "white",
           "ticks": "",
           "title": {
            "standoff": 15
           },
           "zerolinecolor": "white",
           "zerolinewidth": 2
          },
          "yaxis": {
           "automargin": true,
           "gridcolor": "white",
           "linecolor": "white",
           "ticks": "",
           "title": {
            "standoff": 15
           },
           "zerolinecolor": "white",
           "zerolinewidth": 2
          }
         }
        },
        "title": {
         "text": "World Map by Region"
        }
       }
      }
     },
     "metadata": {},
     "output_type": "display_data"
    }
   ],
   "source": [
    "import pandas as pd\n",
    "import plotly.express as px\n",
    "\n",
    "# Load your data (replace 'your_data.csv' with your file)\n",
    "df = summary\n",
    "\n",
    "# Ensure the country code is a column, not index\n",
    "df = df.reset_index().rename(columns={'id': 'country_code'})\n",
    "\n",
    "# Create the choropleth map\n",
    "fig = px.choropleth(\n",
    "    df,\n",
    "    locations='country_code',  # ISO-3 codes\n",
    "    color='region',            # Color by region\n",
    "    hover_name='country_code', # Show country code on hover\n",
    "    color_discrete_sequence=px.colors.qualitative.Set3 # Distinct colors\n",
    ")\n",
    "\n",
    "# Customize layout\n",
    "fig.update_layout(\n",
    "    title_text='World Map by Region',\n",
    "    geo=dict(\n",
    "        showframe=False,\n",
    "        showcoastlines=True,\n",
    "    )\n",
    ")\n",
    "\n",
    "fig.show()\n"
   ]
  },
  {
   "cell_type": "code",
   "execution_count": 65,
   "id": "b964ab15",
   "metadata": {},
   "outputs": [
    {
     "data": {
      "application/vnd.plotly.v1+json": {
       "config": {
        "plotlyServerURL": "https://plot.ly"
       },
       "data": [
        {
         "coloraxis": "coloraxis",
         "geo": "geo",
         "hovertemplate": "<b>%{hovertext}</b><br><br>id=%{location}<br>sdgi_s_2024=%{z}<extra></extra>",
         "hovertext": [
          "AFG",
          "AGO",
          "ALB",
          "AND",
          "ARE",
          "ARG",
          "ARM",
          "ATG",
          "AUS",
          "AUT",
          "AZE",
          "BDI",
          "BEL",
          "BEN",
          "BFA",
          "BGD",
          "BGR",
          "BHR",
          "BHS",
          "BIH",
          "BLR",
          "BLZ",
          "BOL",
          "BRA",
          "BRB",
          "BRN",
          "BTN",
          "BWA",
          "CAF",
          "CAN",
          "CHE",
          "CHL",
          "CHN",
          "CIV",
          "CMR",
          "COD",
          "COG",
          "COL",
          "COM",
          "CPV",
          "CRI",
          "CUB",
          "CYP",
          "CZE",
          "DEU",
          "DJI",
          "DMA",
          "DNK",
          "DOM",
          "DZA",
          "ECU",
          "EGY",
          "ERI",
          "ESP",
          "EST",
          "ETH",
          "FIN",
          "FJI",
          "FRA",
          "FSM",
          "GAB",
          "GBR",
          "GEO",
          "GHA",
          "GIN",
          "GMB",
          "GNB",
          "GNQ",
          "GRC",
          "GRD",
          "GTM",
          "GUY",
          "HND",
          "HRV",
          "HTI",
          "HUN",
          "IDN",
          "IND",
          "IRL",
          "IRN",
          "IRQ",
          "ISL",
          "ISR",
          "ITA",
          "JAM",
          "JOR",
          "JPN",
          "KAZ",
          "KEN",
          "KGZ",
          "KHM",
          "KIR",
          "KNA",
          "KOR",
          "KWT",
          "LAO",
          "LBN",
          "LBR",
          "LBY",
          "LCA",
          "LIE",
          "LKA",
          "LSO",
          "LTU",
          "LUX",
          "LVA",
          "MAR",
          "MCO",
          "MDA",
          "MDG",
          "MDV",
          "MEX",
          "MHL",
          "MKD",
          "MLI",
          "MLT",
          "MMR",
          "MNE",
          "MNG",
          "MOZ",
          "MRT",
          "MUS",
          "MWI",
          "MYS",
          "NAM",
          "NER",
          "NGA",
          "NIC",
          "NLD",
          "NOR",
          "NPL",
          "NRU",
          "NZL",
          "OMN",
          "PAK",
          "PAN",
          "PER",
          "PHL",
          "PLW",
          "PNG",
          "POL",
          "PRK",
          "PRT",
          "PRY",
          "QAT",
          "ROU",
          "RUS",
          "RWA",
          "SAU",
          "SDN",
          "SEN",
          "SGP",
          "SLB",
          "SLE",
          "SLV",
          "SMR",
          "SOM",
          "SRB",
          "SSD",
          "STP",
          "SUR",
          "SVK",
          "SVN",
          "SWE",
          "SWZ",
          "SYC",
          "SYR",
          "TCD",
          "TGO",
          "THA",
          "TJK",
          "TKM",
          "TLS",
          "TON",
          "TTO",
          "TUN",
          "TUR",
          "TUV",
          "TZA",
          "UGA",
          "UKR",
          "URY",
          "USA",
          "UZB",
          "VCT",
          "VEN",
          "VNM",
          "VUT",
          "WSM",
          "YEM",
          "ZAF",
          "ZMB",
          "ZWE"
         ],
         "locations": [
          "AFG",
          "AGO",
          "ALB",
          "AND",
          "ARE",
          "ARG",
          "ARM",
          "ATG",
          "AUS",
          "AUT",
          "AZE",
          "BDI",
          "BEL",
          "BEN",
          "BFA",
          "BGD",
          "BGR",
          "BHR",
          "BHS",
          "BIH",
          "BLR",
          "BLZ",
          "BOL",
          "BRA",
          "BRB",
          "BRN",
          "BTN",
          "BWA",
          "CAF",
          "CAN",
          "CHE",
          "CHL",
          "CHN",
          "CIV",
          "CMR",
          "COD",
          "COG",
          "COL",
          "COM",
          "CPV",
          "CRI",
          "CUB",
          "CYP",
          "CZE",
          "DEU",
          "DJI",
          "DMA",
          "DNK",
          "DOM",
          "DZA",
          "ECU",
          "EGY",
          "ERI",
          "ESP",
          "EST",
          "ETH",
          "FIN",
          "FJI",
          "FRA",
          "FSM",
          "GAB",
          "GBR",
          "GEO",
          "GHA",
          "GIN",
          "GMB",
          "GNB",
          "GNQ",
          "GRC",
          "GRD",
          "GTM",
          "GUY",
          "HND",
          "HRV",
          "HTI",
          "HUN",
          "IDN",
          "IND",
          "IRL",
          "IRN",
          "IRQ",
          "ISL",
          "ISR",
          "ITA",
          "JAM",
          "JOR",
          "JPN",
          "KAZ",
          "KEN",
          "KGZ",
          "KHM",
          "KIR",
          "KNA",
          "KOR",
          "KWT",
          "LAO",
          "LBN",
          "LBR",
          "LBY",
          "LCA",
          "LIE",
          "LKA",
          "LSO",
          "LTU",
          "LUX",
          "LVA",
          "MAR",
          "MCO",
          "MDA",
          "MDG",
          "MDV",
          "MEX",
          "MHL",
          "MKD",
          "MLI",
          "MLT",
          "MMR",
          "MNE",
          "MNG",
          "MOZ",
          "MRT",
          "MUS",
          "MWI",
          "MYS",
          "NAM",
          "NER",
          "NGA",
          "NIC",
          "NLD",
          "NOR",
          "NPL",
          "NRU",
          "NZL",
          "OMN",
          "PAK",
          "PAN",
          "PER",
          "PHL",
          "PLW",
          "PNG",
          "POL",
          "PRK",
          "PRT",
          "PRY",
          "QAT",
          "ROU",
          "RUS",
          "RWA",
          "SAU",
          "SDN",
          "SEN",
          "SGP",
          "SLB",
          "SLE",
          "SLV",
          "SMR",
          "SOM",
          "SRB",
          "SSD",
          "STP",
          "SUR",
          "SVK",
          "SVN",
          "SWE",
          "SWZ",
          "SYC",
          "SYR",
          "TCD",
          "TGO",
          "THA",
          "TJK",
          "TKM",
          "TLS",
          "TON",
          "TTO",
          "TUN",
          "TUR",
          "TUV",
          "TZA",
          "UGA",
          "UKR",
          "URY",
          "USA",
          "UZB",
          "VCT",
          "VEN",
          "VNM",
          "VUT",
          "WSM",
          "YEM",
          "ZAF",
          "ZMB",
          "ZWE"
         ],
         "name": "",
         "type": "choropleth",
         "z": [
          49.10239097911892,
          52.77073364315424,
          75.15855977209064,
          79.89985384615385,
          69.8399835398262,
          74.83635138146168,
          74.25355583354555,
          74.66833063492064,
          77.87709656438332,
          83.01291313825065,
          72.90015606697226,
          55.52192965452848,
          80.67385510567863,
          57.77124733893557,
          53.83721018674137,
          63.88221860623039,
          76.30265259103642,
          64.41337845389904,
          65.18991555720328,
          73.75069509803923,
          78.46570664205078,
          66.99113553852914,
          67.83322874543755,
          73.81220533698328,
          69.6463094970869,
          67.96753674719888,
          70.51801288515406,
          64.51497552287582,
          45.20818520290167,
          79.16855881079704,
          79.15520745618763,
          78.05183256939138,
          74.39278110141493,
          63.1592190009337,
          57.81173292948881,
          48.23573548085901,
          52.80231400560224,
          70.455097283762,
          54.67347198879552,
          67.2793963800905,
          73.4436799825991,
          76.54599303152634,
          73.75585951483157,
          81.935609679781,
          83.66959984084542,
          54.2562532368503,
          65.88923944444443,
          85.25660831847891,
          74.05800276292337,
          70.07197508276037,
          70.09122822128853,
          68.09104984933367,
          49.58449811698718,
          81.03786423266277,
          80.76067352516765,
          55.39672234827264,
          87.02246162971016,
          72.93859633340514,
          83.13923328452593,
          56.15029333333334,
          65.5785768207283,
          81.85433455139633,
          73.67221637382224,
          63.13023314446991,
          57.16020088702148,
          58.44787607376283,
          53.07342884076707,
          56.52009777777778,
          79.12165685425686,
          66.30497001488096,
          59.86379234360412,
          66.27988561492332,
          61.67694561157798,
          82.38929178338,
          52.54836363636364,
          80.37309164144678,
          70.21887371615311,
          66.95460249766573,
          78.58996404167726,
          69.55890011671336,
          63.93542461753933,
          80.79179486461251,
          74.45885217445955,
          80.2601334712673,
          69.81626051056786,
          70.98867546473134,
          80.66185083070525,
          71.51785093158476,
          61.92893249299718,
          74.5035627896613,
          66.38394713256514,
          66.75283031746031,
          68.33956714285713,
          78.11618382532501,
          63.27605187377981,
          62.55285308123249,
          61.67939484763603,
          52.5182564935065,
          55.41353266614338,
          69.2363979638009,
          86.85078354978356,
          67.91604062261268,
          55.63830836601306,
          78.80859819837026,
          76.72567524722011,
          81.19102544775487,
          71.67567093837536,
          88.03023678571428,
          78.76558624904509,
          51.04887784780578,
          73.96494875565611,
          70.79830574229692,
          59.93694387755102,
          73.73674001145912,
          56.328451713352,
          79.2859317927171,
          63.55969211442152,
          73.7774210084034,
          66.74904686783805,
          53.74979540149393,
          57.89145526271115,
          70.33275319794585,
          57.11957158857483,
          69.52016225490195,
          65.52678109243698,
          50.32889127705627,
          54.67934987692048,
          64.77719264705883,
          79.98142983748278,
          82.72058549799874,
          68.57832749554368,
          64.88239404761904,
          78.9562917198329,
          67.07317486631018,
          56.96613285064608,
          68.17374550547491,
          72.66944723919872,
          68.33520529878619,
          67.88002948717948,
          53.44270991704374,
          82.08290094448037,
          63.75335714285714,
          80.64069266827944,
          68.12603140013583,
          65.08901570961719,
          77.67296153127919,
          74.12594851684264,
          62.31413853535354,
          65.191998885918,
          49.06392731092437,
          63.50726118113912,
          71.54361566876753,
          51.75591456582633,
          59.40528888676683,
          68.44127374798406,
          85.88727272727273,
          46.07572315233786,
          78.16126446396741,
          41.5544473015873,
          63.94840252100841,
          71.7509196587726,
          80.77435301014347,
          81.20537847169169,
          85.74132986588576,
          57.49776821661998,
          76.08569389880952,
          58.43147404295052,
          46.03862314192344,
          59.23110466853408,
          75.34208613445378,
          68.2699299932094,
          67.25321757849993,
          66.76583345722904,
          73.37802450980392,
          60.59888961843617,
          72.0009964519141,
          70.61348620252298,
          69.15784047619047,
          57.74069287624141,
          55.83899171632289,
          75.74436660937101,
          77.40080495925642,
          75.19166854224206,
          73.07957861599186,
          68.97199380952382,
          63.81366106442577,
          73.35455191622104,
          61.86476470588234,
          67.66888774509803,
          47.7410633986928,
          64.11430945165945,
          54.77234764748322,
          57.36203562176386
         ]
        }
       ],
       "layout": {
        "coloraxis": {
         "colorbar": {
          "title": {
           "text": "FN Indeks"
          }
         },
         "colorscale": [
          [
           0,
           "#0d0887"
          ],
          [
           0.1111111111111111,
           "#46039f"
          ],
          [
           0.2222222222222222,
           "#7201a8"
          ],
          [
           0.3333333333333333,
           "#9c179e"
          ],
          [
           0.4444444444444444,
           "#bd3786"
          ],
          [
           0.5555555555555556,
           "#d8576b"
          ],
          [
           0.6666666666666666,
           "#ed7953"
          ],
          [
           0.7777777777777778,
           "#fb9f3a"
          ],
          [
           0.8888888888888888,
           "#fdca26"
          ],
          [
           1,
           "#f0f921"
          ]
         ]
        },
        "geo": {
         "center": {},
         "domain": {
          "x": [
           0,
           1
          ],
          "y": [
           0,
           1
          ]
         },
         "lataxis": {
          "range": [
           -60,
           90
          ]
         },
         "showcoastlines": true,
         "showframe": false
        },
        "legend": {
         "tracegroupgap": 0
        },
        "margin": {
         "t": 60
        },
        "template": {
         "data": {
          "bar": [
           {
            "error_x": {
             "color": "#2a3f5f"
            },
            "error_y": {
             "color": "#2a3f5f"
            },
            "marker": {
             "line": {
              "color": "#E5ECF6",
              "width": 0.5
             },
             "pattern": {
              "fillmode": "overlay",
              "size": 10,
              "solidity": 0.2
             }
            },
            "type": "bar"
           }
          ],
          "barpolar": [
           {
            "marker": {
             "line": {
              "color": "#E5ECF6",
              "width": 0.5
             },
             "pattern": {
              "fillmode": "overlay",
              "size": 10,
              "solidity": 0.2
             }
            },
            "type": "barpolar"
           }
          ],
          "carpet": [
           {
            "aaxis": {
             "endlinecolor": "#2a3f5f",
             "gridcolor": "white",
             "linecolor": "white",
             "minorgridcolor": "white",
             "startlinecolor": "#2a3f5f"
            },
            "baxis": {
             "endlinecolor": "#2a3f5f",
             "gridcolor": "white",
             "linecolor": "white",
             "minorgridcolor": "white",
             "startlinecolor": "#2a3f5f"
            },
            "type": "carpet"
           }
          ],
          "choropleth": [
           {
            "colorbar": {
             "outlinewidth": 0,
             "ticks": ""
            },
            "type": "choropleth"
           }
          ],
          "contour": [
           {
            "colorbar": {
             "outlinewidth": 0,
             "ticks": ""
            },
            "colorscale": [
             [
              0,
              "#0d0887"
             ],
             [
              0.1111111111111111,
              "#46039f"
             ],
             [
              0.2222222222222222,
              "#7201a8"
             ],
             [
              0.3333333333333333,
              "#9c179e"
             ],
             [
              0.4444444444444444,
              "#bd3786"
             ],
             [
              0.5555555555555556,
              "#d8576b"
             ],
             [
              0.6666666666666666,
              "#ed7953"
             ],
             [
              0.7777777777777778,
              "#fb9f3a"
             ],
             [
              0.8888888888888888,
              "#fdca26"
             ],
             [
              1,
              "#f0f921"
             ]
            ],
            "type": "contour"
           }
          ],
          "contourcarpet": [
           {
            "colorbar": {
             "outlinewidth": 0,
             "ticks": ""
            },
            "type": "contourcarpet"
           }
          ],
          "heatmap": [
           {
            "colorbar": {
             "outlinewidth": 0,
             "ticks": ""
            },
            "colorscale": [
             [
              0,
              "#0d0887"
             ],
             [
              0.1111111111111111,
              "#46039f"
             ],
             [
              0.2222222222222222,
              "#7201a8"
             ],
             [
              0.3333333333333333,
              "#9c179e"
             ],
             [
              0.4444444444444444,
              "#bd3786"
             ],
             [
              0.5555555555555556,
              "#d8576b"
             ],
             [
              0.6666666666666666,
              "#ed7953"
             ],
             [
              0.7777777777777778,
              "#fb9f3a"
             ],
             [
              0.8888888888888888,
              "#fdca26"
             ],
             [
              1,
              "#f0f921"
             ]
            ],
            "type": "heatmap"
           }
          ],
          "heatmapgl": [
           {
            "colorbar": {
             "outlinewidth": 0,
             "ticks": ""
            },
            "colorscale": [
             [
              0,
              "#0d0887"
             ],
             [
              0.1111111111111111,
              "#46039f"
             ],
             [
              0.2222222222222222,
              "#7201a8"
             ],
             [
              0.3333333333333333,
              "#9c179e"
             ],
             [
              0.4444444444444444,
              "#bd3786"
             ],
             [
              0.5555555555555556,
              "#d8576b"
             ],
             [
              0.6666666666666666,
              "#ed7953"
             ],
             [
              0.7777777777777778,
              "#fb9f3a"
             ],
             [
              0.8888888888888888,
              "#fdca26"
             ],
             [
              1,
              "#f0f921"
             ]
            ],
            "type": "heatmapgl"
           }
          ],
          "histogram": [
           {
            "marker": {
             "pattern": {
              "fillmode": "overlay",
              "size": 10,
              "solidity": 0.2
             }
            },
            "type": "histogram"
           }
          ],
          "histogram2d": [
           {
            "colorbar": {
             "outlinewidth": 0,
             "ticks": ""
            },
            "colorscale": [
             [
              0,
              "#0d0887"
             ],
             [
              0.1111111111111111,
              "#46039f"
             ],
             [
              0.2222222222222222,
              "#7201a8"
             ],
             [
              0.3333333333333333,
              "#9c179e"
             ],
             [
              0.4444444444444444,
              "#bd3786"
             ],
             [
              0.5555555555555556,
              "#d8576b"
             ],
             [
              0.6666666666666666,
              "#ed7953"
             ],
             [
              0.7777777777777778,
              "#fb9f3a"
             ],
             [
              0.8888888888888888,
              "#fdca26"
             ],
             [
              1,
              "#f0f921"
             ]
            ],
            "type": "histogram2d"
           }
          ],
          "histogram2dcontour": [
           {
            "colorbar": {
             "outlinewidth": 0,
             "ticks": ""
            },
            "colorscale": [
             [
              0,
              "#0d0887"
             ],
             [
              0.1111111111111111,
              "#46039f"
             ],
             [
              0.2222222222222222,
              "#7201a8"
             ],
             [
              0.3333333333333333,
              "#9c179e"
             ],
             [
              0.4444444444444444,
              "#bd3786"
             ],
             [
              0.5555555555555556,
              "#d8576b"
             ],
             [
              0.6666666666666666,
              "#ed7953"
             ],
             [
              0.7777777777777778,
              "#fb9f3a"
             ],
             [
              0.8888888888888888,
              "#fdca26"
             ],
             [
              1,
              "#f0f921"
             ]
            ],
            "type": "histogram2dcontour"
           }
          ],
          "mesh3d": [
           {
            "colorbar": {
             "outlinewidth": 0,
             "ticks": ""
            },
            "type": "mesh3d"
           }
          ],
          "parcoords": [
           {
            "line": {
             "colorbar": {
              "outlinewidth": 0,
              "ticks": ""
             }
            },
            "type": "parcoords"
           }
          ],
          "pie": [
           {
            "automargin": true,
            "type": "pie"
           }
          ],
          "scatter": [
           {
            "fillpattern": {
             "fillmode": "overlay",
             "size": 10,
             "solidity": 0.2
            },
            "type": "scatter"
           }
          ],
          "scatter3d": [
           {
            "line": {
             "colorbar": {
              "outlinewidth": 0,
              "ticks": ""
             }
            },
            "marker": {
             "colorbar": {
              "outlinewidth": 0,
              "ticks": ""
             }
            },
            "type": "scatter3d"
           }
          ],
          "scattercarpet": [
           {
            "marker": {
             "colorbar": {
              "outlinewidth": 0,
              "ticks": ""
             }
            },
            "type": "scattercarpet"
           }
          ],
          "scattergeo": [
           {
            "marker": {
             "colorbar": {
              "outlinewidth": 0,
              "ticks": ""
             }
            },
            "type": "scattergeo"
           }
          ],
          "scattergl": [
           {
            "marker": {
             "colorbar": {
              "outlinewidth": 0,
              "ticks": ""
             }
            },
            "type": "scattergl"
           }
          ],
          "scattermapbox": [
           {
            "marker": {
             "colorbar": {
              "outlinewidth": 0,
              "ticks": ""
             }
            },
            "type": "scattermapbox"
           }
          ],
          "scatterpolar": [
           {
            "marker": {
             "colorbar": {
              "outlinewidth": 0,
              "ticks": ""
             }
            },
            "type": "scatterpolar"
           }
          ],
          "scatterpolargl": [
           {
            "marker": {
             "colorbar": {
              "outlinewidth": 0,
              "ticks": ""
             }
            },
            "type": "scatterpolargl"
           }
          ],
          "scatterternary": [
           {
            "marker": {
             "colorbar": {
              "outlinewidth": 0,
              "ticks": ""
             }
            },
            "type": "scatterternary"
           }
          ],
          "surface": [
           {
            "colorbar": {
             "outlinewidth": 0,
             "ticks": ""
            },
            "colorscale": [
             [
              0,
              "#0d0887"
             ],
             [
              0.1111111111111111,
              "#46039f"
             ],
             [
              0.2222222222222222,
              "#7201a8"
             ],
             [
              0.3333333333333333,
              "#9c179e"
             ],
             [
              0.4444444444444444,
              "#bd3786"
             ],
             [
              0.5555555555555556,
              "#d8576b"
             ],
             [
              0.6666666666666666,
              "#ed7953"
             ],
             [
              0.7777777777777778,
              "#fb9f3a"
             ],
             [
              0.8888888888888888,
              "#fdca26"
             ],
             [
              1,
              "#f0f921"
             ]
            ],
            "type": "surface"
           }
          ],
          "table": [
           {
            "cells": {
             "fill": {
              "color": "#EBF0F8"
             },
             "line": {
              "color": "white"
             }
            },
            "header": {
             "fill": {
              "color": "#C8D4E3"
             },
             "line": {
              "color": "white"
             }
            },
            "type": "table"
           }
          ]
         },
         "layout": {
          "annotationdefaults": {
           "arrowcolor": "#2a3f5f",
           "arrowhead": 0,
           "arrowwidth": 1
          },
          "autotypenumbers": "strict",
          "coloraxis": {
           "colorbar": {
            "outlinewidth": 0,
            "ticks": ""
           }
          },
          "colorscale": {
           "diverging": [
            [
             0,
             "#8e0152"
            ],
            [
             0.1,
             "#c51b7d"
            ],
            [
             0.2,
             "#de77ae"
            ],
            [
             0.3,
             "#f1b6da"
            ],
            [
             0.4,
             "#fde0ef"
            ],
            [
             0.5,
             "#f7f7f7"
            ],
            [
             0.6,
             "#e6f5d0"
            ],
            [
             0.7,
             "#b8e186"
            ],
            [
             0.8,
             "#7fbc41"
            ],
            [
             0.9,
             "#4d9221"
            ],
            [
             1,
             "#276419"
            ]
           ],
           "sequential": [
            [
             0,
             "#0d0887"
            ],
            [
             0.1111111111111111,
             "#46039f"
            ],
            [
             0.2222222222222222,
             "#7201a8"
            ],
            [
             0.3333333333333333,
             "#9c179e"
            ],
            [
             0.4444444444444444,
             "#bd3786"
            ],
            [
             0.5555555555555556,
             "#d8576b"
            ],
            [
             0.6666666666666666,
             "#ed7953"
            ],
            [
             0.7777777777777778,
             "#fb9f3a"
            ],
            [
             0.8888888888888888,
             "#fdca26"
            ],
            [
             1,
             "#f0f921"
            ]
           ],
           "sequentialminus": [
            [
             0,
             "#0d0887"
            ],
            [
             0.1111111111111111,
             "#46039f"
            ],
            [
             0.2222222222222222,
             "#7201a8"
            ],
            [
             0.3333333333333333,
             "#9c179e"
            ],
            [
             0.4444444444444444,
             "#bd3786"
            ],
            [
             0.5555555555555556,
             "#d8576b"
            ],
            [
             0.6666666666666666,
             "#ed7953"
            ],
            [
             0.7777777777777778,
             "#fb9f3a"
            ],
            [
             0.8888888888888888,
             "#fdca26"
            ],
            [
             1,
             "#f0f921"
            ]
           ]
          },
          "colorway": [
           "#636efa",
           "#EF553B",
           "#00cc96",
           "#ab63fa",
           "#FFA15A",
           "#19d3f3",
           "#FF6692",
           "#B6E880",
           "#FF97FF",
           "#FECB52"
          ],
          "font": {
           "color": "#2a3f5f"
          },
          "geo": {
           "bgcolor": "white",
           "lakecolor": "white",
           "landcolor": "#E5ECF6",
           "showlakes": true,
           "showland": true,
           "subunitcolor": "white"
          },
          "hoverlabel": {
           "align": "left"
          },
          "hovermode": "closest",
          "mapbox": {
           "style": "light"
          },
          "paper_bgcolor": "white",
          "plot_bgcolor": "#E5ECF6",
          "polar": {
           "angularaxis": {
            "gridcolor": "white",
            "linecolor": "white",
            "ticks": ""
           },
           "bgcolor": "#E5ECF6",
           "radialaxis": {
            "gridcolor": "white",
            "linecolor": "white",
            "ticks": ""
           }
          },
          "scene": {
           "xaxis": {
            "backgroundcolor": "#E5ECF6",
            "gridcolor": "white",
            "gridwidth": 2,
            "linecolor": "white",
            "showbackground": true,
            "ticks": "",
            "zerolinecolor": "white"
           },
           "yaxis": {
            "backgroundcolor": "#E5ECF6",
            "gridcolor": "white",
            "gridwidth": 2,
            "linecolor": "white",
            "showbackground": true,
            "ticks": "",
            "zerolinecolor": "white"
           },
           "zaxis": {
            "backgroundcolor": "#E5ECF6",
            "gridcolor": "white",
            "gridwidth": 2,
            "linecolor": "white",
            "showbackground": true,
            "ticks": "",
            "zerolinecolor": "white"
           }
          },
          "shapedefaults": {
           "line": {
            "color": "#2a3f5f"
           }
          },
          "ternary": {
           "aaxis": {
            "gridcolor": "white",
            "linecolor": "white",
            "ticks": ""
           },
           "baxis": {
            "gridcolor": "white",
            "linecolor": "white",
            "ticks": ""
           },
           "bgcolor": "#E5ECF6",
           "caxis": {
            "gridcolor": "white",
            "linecolor": "white",
            "ticks": ""
           }
          },
          "title": {
           "x": 0.05
          },
          "xaxis": {
           "automargin": true,
           "gridcolor": "white",
           "linecolor": "white",
           "ticks": "",
           "title": {
            "standoff": 15
           },
           "zerolinecolor": "white",
           "zerolinewidth": 2
          },
          "yaxis": {
           "automargin": true,
           "gridcolor": "white",
           "linecolor": "white",
           "ticks": "",
           "title": {
            "standoff": 15
           },
           "zerolinecolor": "white",
           "zerolinewidth": 2
          }
         }
        },
        "title": {}
       }
      }
     },
     "metadata": {},
     "output_type": "display_data"
    }
   ],
   "source": [
    "import pandas as pd\n",
    "import plotly.express as px\n",
    "\n",
    "# Prepare data for 2024 only\n",
    "df_map = summary.reset_index()[[\"id\", \"sdgi_s_start\", \"sdgi_s_rel_change\", \"population\"]].copy()\n",
    "df_map[\"sdgi_s_2024\"] = df_map[\"sdgi_s_start\"] + df_map[\"sdgi_s_rel_change\"]\n",
    "\n",
    "# Create the choropleth map\n",
    "fig = px.choropleth(\n",
    "    df_map,\n",
    "    locations=\"id\",\n",
    "    color=\"sdgi_s_2024\",\n",
    "    hover_name=\"id\",\n",
    "    color_continuous_scale=\"Plasma\",\n",
    ")\n",
    "\n",
    "# Clean layout and remove Arctic\n",
    "fig.update_layout(\n",
    "    geo=dict(\n",
    "        showframe=False,\n",
    "        showcoastlines=True,\n",
    "        lataxis=dict(range=[-60, 90])  # Restrict latitude to remove Arctic\n",
    "    ),\n",
    "    coloraxis_colorbar=dict(title=\"FN Indeks\"),\n",
    "    title=None\n",
    ")\n",
    "\n",
    "# Export to PNG\n",
    "# fig.write_image(\"../output/sdgi_2024_map.png\", width=1200, height=700)\n",
    "fig.show()\n",
    "\n"
   ]
  },
  {
   "cell_type": "code",
   "execution_count": 45,
   "id": "70fb884c",
   "metadata": {},
   "outputs": [],
   "source": [
    "# regression\n",
    "import statsmodels.formula.api as smf"
   ]
  },
  {
   "cell_type": "code",
   "execution_count": 46,
   "id": "cd410ab2",
   "metadata": {},
   "outputs": [],
   "source": [
    "# Prepare data\n",
    "df_reg = summary[['sdgi_s_start', 'sdgi_s_rel_change', 'region', 'population']].dropna()\n",
    "\n",
    "# Ensure numeric columns\n",
    "df_reg['sdgi_s_start'] = pd.to_numeric(df_reg['sdgi_s_start'], errors='coerce')\n",
    "df_reg['sdgi_s_rel_change'] = pd.to_numeric(df_reg['sdgi_s_rel_change'], errors='coerce')\n",
    "df_reg['population'] = pd.to_numeric(df_reg['population'], errors='coerce')\n",
    "df_reg = df_reg.dropna(subset=['sdgi_s_start', 'sdgi_s_rel_change', 'population'])"
   ]
  },
  {
   "cell_type": "code",
   "execution_count": 47,
   "id": "b4cfa98a",
   "metadata": {},
   "outputs": [
    {
     "data": {
      "image/png": "[encoded data removed]",
      "text/plain": [
       "<Figure size 800x500 with 1 Axes>"
      ]
     },
     "metadata": {},
     "output_type": "display_data"
    }
   ],
   "source": [
    "import pandas as pd\n",
    "import statsmodels.api as sm\n",
    "import matplotlib.pyplot as plt\n",
    "\n",
    "# Prepare data\n",
    "df = summary[['sdgi_s_start', 'sdgi_s_rel_change', 'region', 'population']].dropna()\n",
    "df['sdgi_s_start'] = pd.to_numeric(df['sdgi_s_start'], errors='coerce')\n",
    "df['sdgi_s_rel_change'] = pd.to_numeric(df['sdgi_s_rel_change'], errors='coerce')\n",
    "df['population'] = pd.to_numeric(df['population'], errors='coerce')\n",
    "df = df.dropna(subset=['sdgi_s_start', 'sdgi_s_rel_change', 'population'])\n",
    "\n",
    "# Within transformation for FE\n",
    "df['sdgi_s_start_within'] = df['sdgi_s_start'] - df.groupby('region')['sdgi_s_start'].transform('mean')\n",
    "df['sdgi_s_rel_change_within'] = df['sdgi_s_rel_change'] - df.groupby('region')['sdgi_s_rel_change'].transform('mean')\n",
    "\n",
    "# Define regressions\n",
    "regressions = {\n",
    "    'OLS': sm.OLS(df['sdgi_s_rel_change'], sm.add_constant(df['sdgi_s_start'])).fit(),\n",
    "    'OLS + FE': sm.OLS(df['sdgi_s_rel_change_within'], sm.add_constant(df['sdgi_s_start_within'])).fit(),\n",
    "    'WLS': sm.WLS(df['sdgi_s_rel_change'], sm.add_constant(df['sdgi_s_start']), weights=df['population']).fit(),\n",
    "    'WLS + FE': sm.WLS(df['sdgi_s_rel_change_within'], sm.add_constant(df['sdgi_s_start_within']), weights=df['population']).fit()\n",
    "}\n",
    "\n",
    "# Extract coefficients and confidence intervals\n",
    "coef_df = pd.DataFrame([\n",
    "    {\n",
    "        'Model': name,\n",
    "        'Coef': reg.params['sdgi_s_start'] if 'sdgi_s_start' in reg.params else reg.params['sdgi_s_start_within'],\n",
    "        'CI_low': reg.conf_int().loc['sdgi_s_start', 0] if 'sdgi_s_start' in reg.params else reg.conf_int().loc['sdgi_s_start_within', 0],\n",
    "        'CI_high': reg.conf_int().loc['sdgi_s_start', 1] if 'sdgi_s_start' in reg.params else reg.conf_int().loc['sdgi_s_start_within', 1]\n",
    "    }\n",
    "    for name, reg in regressions.items()\n",
    "])\n",
    "\n",
    "# Vertical plot: models on x-axis, coefficient on y-axis\n",
    "plt.figure(figsize=(8,5))\n",
    "plt.errorbar(coef_df['Model'], coef_df['Coef'], \n",
    "             yerr=[coef_df['Coef'] - coef_df['CI_low'], coef_df['CI_high'] - coef_df['Coef']],\n",
    "             fmt='o', color='blue', capsize=5)\n",
    "plt.axhline(0, color='grey', linestyle='--')  # Horizontal line at 0\n",
    "plt.ylabel('Coefficient of sdgi_s_start')\n",
    "plt.xlabel('Model')\n",
    "plt.title('Comparison of Regressions')\n",
    "plt.show()\n"
   ]
  },
  {
   "cell_type": "code",
   "execution_count": 48,
   "id": "430b021c",
   "metadata": {},
   "outputs": [
    {
     "data": {
      "image/png": "[encoded data removed]",
      "text/plain": [
       "<Figure size 900x600 with 1 Axes>"
      ]
     },
     "metadata": {},
     "output_type": "display_data"
    }
   ],
   "source": [
    "import pandas as pd\n",
    "import statsmodels.api as sm\n",
    "import matplotlib.pyplot as plt\n",
    "import seaborn as sns\n",
    "\n",
    "# Prepare data\n",
    "df = summary[['sdgi_s_start', 'sdgi_s_rel_change', 'region', 'population']].dropna()\n",
    "df['sdgi_s_start'] = pd.to_numeric(df['sdgi_s_start'], errors='coerce')\n",
    "df['sdgi_s_rel_change'] = pd.to_numeric(df['sdgi_s_rel_change'], errors='coerce')\n",
    "df['population'] = pd.to_numeric(df['population'], errors='coerce')\n",
    "df = df.dropna(subset=['sdgi_s_start', 'sdgi_s_rel_change', 'population'])\n",
    "\n",
    "# Within transformation for FE\n",
    "df['sdgi_s_start_within'] = df['sdgi_s_start'] - df.groupby('region')['sdgi_s_start'].transform('mean')\n",
    "df['sdgi_s_rel_change_within'] = df['sdgi_s_rel_change'] - df.groupby('region')['sdgi_s_rel_change'].transform('mean')\n",
    "\n",
    "# Define regressions with robust SE\n",
    "regressions = {\n",
    "    'OLS': sm.OLS(df['sdgi_s_rel_change'], sm.add_constant(df['sdgi_s_start'])).fit(cov_type='HC3'),\n",
    "    'OLS + FE': sm.OLS(df['sdgi_s_rel_change_within'], sm.add_constant(df['sdgi_s_start_within'])).fit(cov_type='HC3'),\n",
    "    'WLS': sm.WLS(df['sdgi_s_rel_change'], sm.add_constant(df['sdgi_s_start']), weights=df['population']).fit(cov_type='HC3'),\n",
    "    'WLS + FE': sm.WLS(df['sdgi_s_rel_change_within'], sm.add_constant(df['sdgi_s_start_within']), weights=df['population']).fit(cov_type='HC3')\n",
    "}\n",
    "\n",
    "# Extract coefficients and robust CI\n",
    "coef_df = pd.DataFrame([\n",
    "    {\n",
    "        'Model': name,\n",
    "        'Coef': reg.params['sdgi_s_start'] if 'sdgi_s_start' in reg.params else reg.params['sdgi_s_start_within'],\n",
    "        'CI_low': reg.conf_int().loc['sdgi_s_start', 0] if 'sdgi_s_start' in reg.params else reg.conf_int().loc['sdgi_s_start_within', 0],\n",
    "        'CI_high': reg.conf_int().loc['sdgi_s_start', 1] if 'sdgi_s_start' in reg.params else reg.conf_int().loc['sdgi_s_start_within', 1]\n",
    "    }\n",
    "    for name, reg in regressions.items()\n",
    "])\n",
    "\n",
    "# Academic style plot\n",
    "sns.set_style(\"whitegrid\")\n",
    "plt.figure(figsize=(9,6))\n",
    "colors = sns.color_palette(\"tab10\", n_colors=len(coef_df))\n",
    "\n",
    "for i, row in coef_df.iterrows():\n",
    "    plt.errorbar(row['Model'], row['Coef'], \n",
    "                 yerr=[[row['Coef'] - row['CI_low']], [row['CI_high'] - row['Coef']]],\n",
    "                 fmt='o', color=colors[i], capsize=5)\n",
    "\n",
    "plt.axhline(0, color='black', linestyle='--', linewidth=1)\n",
    "plt.ylabel('Coefficient of sdgi_s_start', fontsize=14)\n",
    "plt.xlabel('Model', fontsize=14)\n",
    "plt.title('Comparison of Regression Coefficients (Robust SE)', fontsize=16)\n",
    "plt.tight_layout()\n",
    "plt.show()\n"
   ]
  },
  {
   "cell_type": "code",
   "execution_count": 29,
   "id": "e4d4facd",
   "metadata": {},
   "outputs": [
    {
     "name": "stdout",
     "output_type": "stream",
     "text": [
      "                               OLS Regression Results                               \n",
      "====================================================================================\n",
      "Dep. Variable:     sdgi_s_rel_change_within   R-squared:                       0.071\n",
      "Model:                                  OLS   Adj. R-squared:                  0.066\n",
      "Method:                       Least Squares   F-statistic:                     14.53\n",
      "Date:                      Fri, 03 Oct 2025   Prob (F-statistic):           0.000186\n",
      "Time:                              14:46:41   Log-Likelihood:                -479.69\n",
      "No. Observations:                       192   AIC:                             963.4\n",
      "Df Residuals:                           190   BIC:                             969.9\n",
      "Df Model:                                 1                                         \n",
      "Covariance Type:                  nonrobust                                         \n",
      "=======================================================================================\n",
      "                          coef    std err          t      P>|t|      [0.025      0.975]\n",
      "---------------------------------------------------------------------------------------\n",
      "const                  -0.0052      0.214     -0.024      0.981      -0.427       0.416\n",
      "sdgi_s_start_within    -0.1545      0.041     -3.812      0.000      -0.234      -0.075\n",
      "==============================================================================\n",
      "Omnibus:                        4.898   Durbin-Watson:                   2.034\n",
      "Prob(Omnibus):                  0.086   Jarque-Bera (JB):                5.701\n",
      "Skew:                          -0.180   Prob(JB):                       0.0578\n",
      "Kurtosis:                       3.764   Cond. No.                         5.27\n",
      "==============================================================================\n",
      "\n",
      "Notes:\n",
      "[1] Standard Errors assume that the covariance matrix of the errors is correctly specified.\n"
     ]
    },
    {
     "data": {
      "image/png": "[encoded data removed]",
      "text/plain": [
       "<Figure size 1000x600 with 1 Axes>"
      ]
     },
     "metadata": {},
     "output_type": "display_data"
    }
   ],
   "source": [
    "import pandas as pd\n",
    "import matplotlib.pyplot as plt\n",
    "import seaborn as sns\n",
    "import statsmodels.api as sm\n",
    "\n",
    "# Prepare data\n",
    "df = summary[['sdgi_s_start', 'sdgi_s_rel_change', 'region']].dropna()\n",
    "\n",
    "# Ensure numeric\n",
    "df['sdgi_s_start'] = pd.to_numeric(df['sdgi_s_start'], errors='coerce')\n",
    "df['sdgi_s_rel_change'] = pd.to_numeric(df['sdgi_s_rel_change'], errors='coerce')\n",
    "df = df.dropna(subset=['sdgi_s_start', 'sdgi_s_rel_change'])\n",
    "\n",
    "# Within transformation (demean by region)\n",
    "df['sdgi_s_start_within'] = df['sdgi_s_start'] - df.groupby('region')['sdgi_s_start'].transform('mean')\n",
    "df['sdgi_s_rel_change_within'] = df['sdgi_s_rel_change'] - df.groupby('region')['sdgi_s_rel_change'].transform('mean')\n",
    "\n",
    "df = df[df['sdgi_s_start_within'] > -25]\n",
    "\n",
    "# Fit OLS on within-transformed data\n",
    "X = sm.add_constant(df['sdgi_s_start_within'])\n",
    "y = df['sdgi_s_rel_change_within']\n",
    "model_within = sm.OLS(y, X).fit()\n",
    "print(model_within.summary())\n",
    "\n",
    "# Plot\n",
    "plt.figure(figsize=(10,6))\n",
    "sns.scatterplot(x='sdgi_s_start_within', y='sdgi_s_rel_change_within', hue='region', data=df, s=60, alpha=0.7)\n",
    "\n",
    "# Plot regression line for overall within-effect\n",
    "x_vals = pd.Series(df['sdgi_s_start_within'])\n",
    "y_vals = model_within.params['const'] + model_within.params['sdgi_s_start_within'] * x_vals\n",
    "plt.plot(x_vals, y_vals, color='black', linewidth=2, label='Within-region FE regression')\n",
    "\n",
    "plt.axhline(0, color='grey', linestyle='--', linewidth=1)\n",
    "plt.xlabel('sdgi_s_start (within-region demeaned)')\n",
    "plt.ylabel('sdgi_s_rel_change (within-region demeaned)')\n",
    "plt.title('Within-Region Regression of sdgi_s_rel_change on sdgi_s_start')\n",
    "plt.legend()\n",
    "plt.show()\n"
   ]
  },
  {
   "cell_type": "code",
   "execution_count": 23,
   "id": "baa5b880",
   "metadata": {},
   "outputs": [
    {
     "data": {
      "text/html": [
       "<div>\n",
       "<style scoped>\n",
       "    .dataframe tbody tr th:only-of-type {\n",
       "        vertical-align: middle;\n",
       "    }\n",
       "\n",
       "    .dataframe tbody tr th {\n",
       "        vertical-align: top;\n",
       "    }\n",
       "\n",
       "    .dataframe thead th {\n",
       "        text-align: right;\n",
       "    }\n",
       "</style>\n",
       "<table border=\"1\" class=\"dataframe\">\n",
       "  <thead>\n",
       "    <tr style=\"text-align: right;\">\n",
       "      <th></th>\n",
       "      <th>sdgi_s_start</th>\n",
       "      <th>sdgi_s_rel_change</th>\n",
       "      <th>region</th>\n",
       "      <th>sdgi_s_start_within</th>\n",
       "      <th>sdgi_s_rel_change_within</th>\n",
       "    </tr>\n",
       "    <tr>\n",
       "      <th>id</th>\n",
       "      <th></th>\n",
       "      <th></th>\n",
       "      <th></th>\n",
       "      <th></th>\n",
       "      <th></th>\n",
       "    </tr>\n",
       "  </thead>\n",
       "  <tbody>\n",
       "    <tr>\n",
       "      <th>AFG</th>\n",
       "      <td>34.876604</td>\n",
       "      <td>14.225787</td>\n",
       "      <td>E_Euro_Asia</td>\n",
       "      <td>-30.293634</td>\n",
       "      <td>5.672309</td>\n",
       "    </tr>\n",
       "  </tbody>\n",
       "</table>\n",
       "</div>"
      ],
      "text/plain": [
       "     sdgi_s_start  sdgi_s_rel_change       region  sdgi_s_start_within  \\\n",
       "id                                                                       \n",
       "AFG     34.876604          14.225787  E_Euro_Asia           -30.293634   \n",
       "\n",
       "     sdgi_s_rel_change_within  \n",
       "id                             \n",
       "AFG                  5.672309  "
      ]
     },
     "execution_count": 23,
     "metadata": {},
     "output_type": "execute_result"
    }
   ],
   "source": [
    "df[df['sdgi_s_start_within'] < -25]"
   ]
  },
  {
   "cell_type": "code",
   "execution_count": 30,
   "id": "adcb302f",
   "metadata": {},
   "outputs": [
    {
     "data": {
      "image/png": "[encoded data removed]",
      "text/plain": [
       "<Figure size 1200x700 with 1 Axes>"
      ]
     },
     "metadata": {},
     "output_type": "display_data"
    }
   ],
   "source": [
    "import pandas as pd\n",
    "import matplotlib.pyplot as plt\n",
    "import seaborn as sns\n",
    "import statsmodels.api as sm\n",
    "\n",
    "# Prepare data\n",
    "df = summary[['sdgi_s_start', 'sdgi_s_rel_change', 'region']].dropna()\n",
    "\n",
    "# Ensure numeric\n",
    "df['sdgi_s_start'] = pd.to_numeric(df['sdgi_s_start'], errors='coerce')\n",
    "df['sdgi_s_rel_change'] = pd.to_numeric(df['sdgi_s_rel_change'], errors='coerce')\n",
    "df = df.dropna(subset=['sdgi_s_start', 'sdgi_s_rel_change'])\n",
    "\n",
    "# Within transformation (demean by region)\n",
    "df['sdgi_s_start_within'] = df['sdgi_s_start'] - df.groupby('region')['sdgi_s_start'].transform('mean')\n",
    "df['sdgi_s_rel_change_within'] = df['sdgi_s_rel_change'] - df.groupby('region')['sdgi_s_rel_change'].transform('mean')\n",
    "\n",
    "# Plot setup\n",
    "plt.figure(figsize=(12, 7))\n",
    "sns.scatterplot(x='sdgi_s_start_within', y='sdgi_s_rel_change_within', hue='region', data=df, s=60, alpha=0.7)\n",
    "\n",
    "# Fit and plot within-region regression lines\n",
    "regions = df['region'].unique()\n",
    "for r in regions:\n",
    "    df_r = df[df['region'] == r]\n",
    "    X_r = sm.add_constant(df_r['sdgi_s_start_within'])\n",
    "    y_r = df_r['sdgi_s_rel_change_within']\n",
    "    model_r = sm.OLS(y_r, X_r).fit()\n",
    "    x_vals = pd.Series(df_r['sdgi_s_start_within'])\n",
    "    y_vals = model_r.params['const'] + model_r.params['sdgi_s_start_within'] * x_vals\n",
    "    plt.plot(x_vals, y_vals, linewidth=2)\n",
    "\n",
    "plt.axhline(0, color='grey', linestyle='--', linewidth=1)\n",
    "plt.xlabel('sdgi_s_start (within-region demeaned)')\n",
    "plt.ylabel('sdgi_s_rel_change (within-region demeaned)')\n",
    "plt.title('Within-Region Regression of sdgi_s_rel_change on sdgi_s_start')\n",
    "plt.legend(title='Region')\n",
    "plt.show()\n"
   ]
  },
  {
   "cell_type": "code",
   "execution_count": 31,
   "id": "29a4a2c0",
   "metadata": {},
   "outputs": [
    {
     "name": "stdout",
     "output_type": "stream",
     "text": [
      "                               WLS Regression Results                               \n",
      "====================================================================================\n",
      "Dep. Variable:     sdgi_s_rel_change_within   R-squared:                       0.008\n",
      "Model:                                  WLS   Adj. R-squared:                  0.003\n",
      "Method:                       Least Squares   F-statistic:                     1.547\n",
      "Date:                      Fri, 03 Oct 2025   Prob (F-statistic):              0.215\n",
      "Time:                              14:46:48   Log-Likelihood:                -630.89\n",
      "No. Observations:                       193   AIC:                             1266.\n",
      "Df Residuals:                           191   BIC:                             1272.\n",
      "Df Model:                                 1                                         \n",
      "Covariance Type:                  nonrobust                                         \n",
      "=======================================================================================\n",
      "                          coef    std err          t      P>|t|      [0.025      0.975]\n",
      "---------------------------------------------------------------------------------------\n",
      "const                   0.6995      0.182      3.845      0.000       0.341       1.058\n",
      "sdgi_s_start_within    -0.0448      0.036     -1.244      0.215      -0.116       0.026\n",
      "==============================================================================\n",
      "Omnibus:                       36.122   Durbin-Watson:                   2.043\n",
      "Prob(Omnibus):                  0.000   Jarque-Bera (JB):              275.754\n",
      "Skew:                          -0.330   Prob(JB):                     1.32e-60\n",
      "Kurtosis:                       8.818   Cond. No.                         5.09\n",
      "==============================================================================\n",
      "\n",
      "Notes:\n",
      "[1] Standard Errors assume that the covariance matrix of the errors is correctly specified.\n"
     ]
    },
    {
     "data": {
      "image/png": "[encoded data removed]",
      "text/plain": [
       "<Figure size 1200x700 with 1 Axes>"
      ]
     },
     "metadata": {},
     "output_type": "display_data"
    }
   ],
   "source": [
    "import pandas as pd\n",
    "import matplotlib.pyplot as plt\n",
    "import seaborn as sns\n",
    "import statsmodels.api as sm\n",
    "\n",
    "# Prepare data\n",
    "df = summary[['sdgi_s_start', 'sdgi_s_rel_change', 'region', 'population']].dropna()\n",
    "\n",
    "# Ensure numeric\n",
    "df['sdgi_s_start'] = pd.to_numeric(df['sdgi_s_start'], errors='coerce')\n",
    "df['sdgi_s_rel_change'] = pd.to_numeric(df['sdgi_s_rel_change'], errors='coerce')\n",
    "df['population'] = pd.to_numeric(df['population'], errors='coerce')\n",
    "df = df.dropna(subset=['sdgi_s_start', 'sdgi_s_rel_change', 'population'])\n",
    "\n",
    "# Within transformation (demean by region)\n",
    "df['sdgi_s_start_within'] = df['sdgi_s_start'] - df.groupby('region')['sdgi_s_start'].transform('mean')\n",
    "df['sdgi_s_rel_change_within'] = df['sdgi_s_rel_change'] - df.groupby('region')['sdgi_s_rel_change'].transform('mean')\n",
    "\n",
    "# Fit weighted OLS (weights = population)\n",
    "X = sm.add_constant(df['sdgi_s_start_within'])\n",
    "y = df['sdgi_s_rel_change_within']\n",
    "weights = df['population']\n",
    "model_weighted = sm.WLS(y, X, weights=weights).fit()\n",
    "\n",
    "print(model_weighted.summary())\n",
    "\n",
    "# Plot scatter with population weighting (point size proportional to population)\n",
    "plt.figure(figsize=(12,7))\n",
    "sns.scatterplot(\n",
    "    x='sdgi_s_start_within', \n",
    "    y='sdgi_s_rel_change_within', \n",
    "    hue='region', \n",
    "    size='population',\n",
    "    sizes=(20, 300), \n",
    "    alpha=0.7,\n",
    "    data=df\n",
    ")\n",
    "\n",
    "# Weighted regression line\n",
    "x_vals = pd.Series(df['sdgi_s_start_within'])\n",
    "y_vals = model_weighted.params['const'] + model_weighted.params['sdgi_s_start_within'] * x_vals\n",
    "plt.plot(x_vals, y_vals, color='black', linewidth=2, label='Weighted within-region regression')\n",
    "\n",
    "plt.axhline(0, color='grey', linestyle='--', linewidth=1)\n",
    "plt.xlabel('sdgi_s_start (within-region demeaned)')\n",
    "plt.ylabel('sdgi_s_rel_change (within-region demeaned)')\n",
    "plt.title('Population-weighted Within-Region Regression')\n",
    "plt.legend()\n",
    "plt.show()\n"
   ]
  },
  {
   "cell_type": "code",
   "execution_count": null,
   "id": "90be0928",
   "metadata": {},
   "outputs": [],
   "source": []
  }
 ],
 "metadata": {
  "kernelspec": {
   "display_name": "base",
   "language": "python",
   "name": "python3"
  },
  "language_info": {
   "codemirror_mode": {
    "name": "ipython",
    "version": 3
   },
   "file_extension": ".py",
   "mimetype": "text/x-python",
   "name": "python",
   "nbconvert_exporter": "python",
   "pygments_lexer": "ipython3",
   "version": "3.11.7"
  }
 },
 "nbformat": 4,
 "nbformat_minor": 5
}
